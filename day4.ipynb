{
 "cells": [
  {
   "cell_type": "code",
   "execution_count": 49,
   "metadata": {},
   "outputs": [
    {
     "name": "stdout",
     "output_type": "stream",
     "text": [
      "{'iyr': '2010', 'pid': '623705680', 'ecl': 'hzl', 'hgt': '181cm', 'byr': '1980', 'hcl': '#341e13', 'eyr': '2028'}\n"
     ]
    }
   ],
   "source": [
    "import numpy as np\n",
    "\n",
    "f = open(\"day4_input.json\", \"r\")\n",
    "\n",
    "# Read in the date from file, separating into different passports\n",
    "input_array = np.array(f.read().split(\"\\n\\n\"))\n",
    "\n",
    "# Replace remaining new line characters with spaces\n",
    "input_array = [a.replace(\"\\n\", \" \") for a in input_array] \n",
    "\n",
    "# Remove space from the end of the last entry\n",
    "input_array[-1] = input_array[-1][:-1]\n",
    "\n",
    "# Each passport is now a string in the list\n",
    "\n",
    "# Create a list of lists, so that each passport is a list of key, value pairs\n",
    "input_array = [a.split(\" \") for a in input_array]\n",
    "\n",
    "\n",
    "# print(input_array)\n",
    "\n",
    "dict_array = []\n",
    "for passport in input_array:\n",
    "    dictionary = {}\n",
    "    for value in passport:\n",
    "        key_value_pair = value.split(\":\")\n",
    "#         print(key_value_pair)\n",
    "        dictionary[key_value_pair[0]] = key_value_pair[1]\n",
    "        \n",
    "    dict_array.append(dictionary)\n",
    "print(dict_array[-1])\n",
    "        \n",
    "\n",
    "# Data is now in a state where it is ready for analysis. It is a list of dictionary values representing the passports!\n",
    "    "
   ]
  },
  {
   "cell_type": "code",
   "execution_count": 61,
   "metadata": {},
   "outputs": [
    {
     "name": "stdout",
     "output_type": "stream",
     "text": [
      "Of the 255 passwords, 230 are valid.\n"
     ]
    }
   ],
   "source": [
    "# Problem 1\n",
    "\n",
    "required_keys = [\"byr\",\"iyr\",\"eyr\",\"hgt\",\"hcl\",\"ecl\",\"pid\"]\n",
    "\n",
    "invalid_passwords=0\n",
    "for dictionary in dict_array:\n",
    "    valid = True\n",
    "    for key in required_keys:\n",
    "        if key not in dictionary:\n",
    "            valid = False\n",
    "            break\n",
    "    if (not valid):\n",
    "        invalid_passwords+=1\n",
    "        \n",
    "number_of_passwords = len(dict_array)\n",
    "number_of_valid_passwords = number_of_passwords - invalid_passwords\n",
    "\n",
    "print(\"Of the \" + str(number_of_passwords) + \" passwords, \" + str(number_of_valid_passwords) + \" are valid.\")\n",
    "\n"
   ]
  },
  {
   "cell_type": "code",
   "execution_count": 107,
   "metadata": {},
   "outputs": [
    {
     "name": "stdout",
     "output_type": "stream",
     "text": [
      "156\n"
     ]
    }
   ],
   "source": [
    "# Problem 2\n",
    "\n",
    "# We need a method for each validation check\n",
    "\n",
    "def validate_birth_year(birth_year):\n",
    "    if (len(birth_year)!=4):\n",
    "        return false\n",
    "    elif (1920 <= int(birth_year) <= 2002):\n",
    "        return True\n",
    "    else:\n",
    "        return False\n",
    "    \n",
    "def validate_issue_year(issue_year):\n",
    "    if (len(issue_year)!=4):\n",
    "        return false\n",
    "    elif (2010 <= int(issue_year) <= 2020):\n",
    "        return True\n",
    "    else:\n",
    "        return False\n",
    "    \n",
    "def validate_expiration_year(expiration_year):\n",
    "    if (len(expiration_year)!=4):\n",
    "        return false\n",
    "    elif (2020 <= int(expiration_year) <= 2030):\n",
    "        return True\n",
    "    else:\n",
    "        return False\n",
    "    \n",
    "def validate_height(height):\n",
    "    valid = False\n",
    "    if (\"cm\" in height):\n",
    "        if (150 <= int(height.replace(\"cm\",\"\")) <= 193):\n",
    "            valid = True\n",
    "    elif (\"in\" in height):\n",
    "        if (59 <= int(height.replace(\"in\",\"\")) <= 76):\n",
    "            valid = True\n",
    "    return valid\n",
    "\n",
    "# Import regex for hair colour validation\n",
    "import re\n",
    "\n",
    "def validate_hair_colour(hair_colour):\n",
    "    valid = False\n",
    "    if (len(hair_colour)==7):\n",
    "        if (hair_colour[0]==\"#\"):\n",
    "            if (\"_\" not in hair_colour):\n",
    "                word_chars = re.findall(\"\\w\",hair_colour)\n",
    "                if (len(word_chars) == 6):\n",
    "                    valid = True\n",
    "    return valid\n",
    "    \n",
    "def validate_eye_colour(eye_colour):\n",
    "    valid_list = [\"amb\",\"blu\",\"brn\",\"gry\",\"grn\",\"hzl\",\"oth\"]\n",
    "    if eye_colour in valid_list:\n",
    "        return True\n",
    "    else:\n",
    "        return False\n",
    "    \n",
    "def validate_passport_id(passport_id):\n",
    "    if (len(passport_id)==9):\n",
    "        return True\n",
    "    else: \n",
    "        return False\n",
    "\n",
    "required_keys = [\"byr\",\"iyr\",\"eyr\",\"hgt\",\"hcl\",\"ecl\",\"pid\"]\n",
    "valid_passwords=0\n",
    "for dictionary in dict_array:\n",
    "    valid_keys = True\n",
    "    for key in required_keys:\n",
    "        if key not in dictionary:\n",
    "            valid_keys = False\n",
    "            break\n",
    "    if (valid_keys):\n",
    "        if (validate_birth_year(dictionary.get(\"byr\")) and \n",
    "            validate_issue_year(dictionary.get(\"iyr\")) and\n",
    "            validate_expiration_year(dictionary.get(\"eyr\")) and\n",
    "            validate_height(dictionary.get(\"hgt\")) and\n",
    "            validate_hair_colour(dictionary.get(\"hcl\")) and\n",
    "            validate_eye_colour(dictionary.get(\"ecl\")) and\n",
    "            validate_passport_id(dictionary.get(\"pid\"))):\n",
    "            valid_passwords+=1\n",
    "    \n",
    "print(valid_passwords)\n",
    "\n"
   ]
  },
  {
   "cell_type": "code",
   "execution_count": null,
   "metadata": {},
   "outputs": [],
   "source": []
  }
 ],
 "metadata": {
  "kernelspec": {
   "display_name": "Python 3",
   "language": "python",
   "name": "python3"
  },
  "language_info": {
   "codemirror_mode": {
    "name": "ipython",
    "version": 3
   },
   "file_extension": ".py",
   "mimetype": "text/x-python",
   "name": "python",
   "nbconvert_exporter": "python",
   "pygments_lexer": "ipython3",
   "version": "3.7.6"
  }
 },
 "nbformat": 4,
 "nbformat_minor": 4
}
