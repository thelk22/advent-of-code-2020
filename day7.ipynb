{
 "cells": [
  {
   "cell_type": "code",
   "execution_count": 26,
   "metadata": {},
   "outputs": [
    {
     "name": "stdout",
     "output_type": "stream",
     "text": [
      "{'dark violet': '5', 'plaid lime': '3', 'wavy gold': '3', 'dotted lime': '5'}\n"
     ]
    }
   ],
   "source": [
    "import string\n",
    "\n",
    "rule_list = open(\"day7_input.txt\", \"r\").read().split(\"\\n\")[:-1]\n",
    "\n",
    "rules = [rule.split(\"bags\",1) for rule in rule_list]\n",
    "\n",
    "# print(rules)\n",
    "\n",
    "for rule in rules:\n",
    "    rule[0] = rule[0].rstrip()\n",
    "    rule[1] = rule[1].replace(\"contain\", \"\").replace(\" bags\",\"\").replace(\" bag\",\"\").replace(\".\",\"\").rstrip().lstrip()\n",
    "    \n",
    "# print(rules[10])\n",
    "    \n",
    "# We now have a list where for each entry, the first value is the bag in question,\n",
    "# and the second value is a string representing the nested bags\n",
    "\n",
    "# Define function to get nested bags\n",
    "import re\n",
    "def get_nested_bags(nested_bags):\n",
    "    result = {}\n",
    "    bags = nested_bags.split(\",\")\n",
    "    for bag in bags:\n",
    "        \n",
    "        if bag==\"no other\":\n",
    "            return result\n",
    "        \n",
    "        for nested_bag in bags:\n",
    "            var = nested_bag.lstrip().split(\" \",1)\n",
    "            number = var[0].rstrip().lstrip()\n",
    "            colour = var[1].rstrip().lstrip()\n",
    "            result[colour]=number\n",
    "            \n",
    "    return result\n",
    "\n",
    "# string = \"3 muted tan, 3 clear lime, 3 bright magenta, 3 faded purple\"\n",
    "# print(get_nested_bags(string))\n",
    "\n",
    "# Set up hashmap\n",
    "rule_dictionary = {}\n",
    "for rule in rules:\n",
    "    rule_dictionary[rule[0]]=get_nested_bags(rule[1])\n",
    "    \n",
    "\n",
    "# print(rule_dictionary[\"light maroon\"])\n",
    "\n"
   ]
  },
  {
   "cell_type": "code",
   "execution_count": 37,
   "metadata": {},
   "outputs": [
    {
     "name": "stdout",
     "output_type": "stream",
     "text": [
      "32\n"
     ]
    }
   ],
   "source": [
    "# Create method for getting all of the bags that a particular bag contains\n",
    "\n",
    "def contains_gold_bag(colour):\n",
    "    contained_bags = rule_dictionary[colour]\n",
    "#     print(contained_bags)\n",
    "    if (not contained_bags):\n",
    "        return False\n",
    "    elif (\"wavy gold\" in contained_bags):\n",
    "        return True\n",
    "    else:\n",
    "#         result = False\n",
    "        for colour in contained_bags.keys():\n",
    "            return contains_gold_bag(colour)\n",
    "    \n",
    "\n",
    "count = 0\n",
    "for key in rule_dictionary.keys():\n",
    "    count += contains_gold_bag(key)\n",
    "\n",
    "print(count)\n",
    "\n"
   ]
  },
  {
   "cell_type": "code",
   "execution_count": null,
   "metadata": {},
   "outputs": [],
   "source": []
  }
 ],
 "metadata": {
  "kernelspec": {
   "display_name": "Python 3",
   "language": "python",
   "name": "python3"
  },
  "language_info": {
   "codemirror_mode": {
    "name": "ipython",
    "version": 3
   },
   "file_extension": ".py",
   "mimetype": "text/x-python",
   "name": "python",
   "nbconvert_exporter": "python",
   "pygments_lexer": "ipython3",
   "version": "3.7.6"
  }
 },
 "nbformat": 4,
 "nbformat_minor": 4
}
